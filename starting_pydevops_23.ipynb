{
  "nbformat": 4,
  "nbformat_minor": 0,
  "metadata": {
    "colab": {
      "provenance": [],
      "authorship_tag": "ABX9TyM7mSP3iYFEZEsSMGIVGr4d",
      "include_colab_link": true
    },
    "kernelspec": {
      "name": "python3",
      "display_name": "Python 3"
    },
    "language_info": {
      "name": "python"
    }
  },
  "cells": [
    {
      "cell_type": "markdown",
      "metadata": {
        "id": "view-in-github",
        "colab_type": "text"
      },
      "source": [
        "<a href=\"https://colab.research.google.com/github/NamsyJay/Pyth-for-devops-23/blob/main/starting_pydevops_23.ipynb\" target=\"_parent\"><img src=\"https://colab.research.google.com/assets/colab-badge.svg\" alt=\"Open In Colab\"/></a>"
      ]
    },
    {
      "cell_type": "markdown",
      "source": [
        "## INTRODUCTION TO PYTHON FOR DEVOPS\n",
        "\n",
        "\n"
      ],
      "metadata": {
        "id": "VeJjnZlGb48k"
      }
    },
    {
      "cell_type": "markdown",
      "source": [
        "## Statements in Python"
      ],
      "metadata": {
        "id": "KU_EIyDKcl-U"
      }
    },
    {
      "cell_type": "code",
      "source": [
        "print(\"happy easter\")"
      ],
      "metadata": {
        "id": "tEAzNCCncouh",
        "outputId": "2885128e-79af-4756-b370-37ca7c4ca80c",
        "colab": {
          "base_uri": "https://localhost:8080/"
        }
      },
      "execution_count": 1,
      "outputs": [
        {
          "output_type": "stream",
          "name": "stdout",
          "text": [
            "happy easter\n"
          ]
        }
      ]
    },
    {
      "cell_type": "code",
      "source": [
        "name = \"charles\"\n",
        "print(f\"hello {name}\")"
      ],
      "metadata": {
        "id": "38GcisdMc8v-",
        "outputId": "bed626b6-9046-4489-fc91-cd6792641b37",
        "colab": {
          "base_uri": "https://localhost:8080/"
        }
      },
      "execution_count": 2,
      "outputs": [
        {
          "output_type": "stream",
          "name": "stdout",
          "text": [
            "hello charles\n"
          ]
        }
      ]
    },
    {
      "cell_type": "markdown",
      "source": [
        "## Data Structures: Lists & Dictionaries"
      ],
      "metadata": {
        "id": "03j5W61zhbHz"
      }
    },
    {
      "cell_type": "markdown",
      "source": [
        "#### lists"
      ],
      "metadata": {
        "id": "xknp4XG6i3fu"
      }
    },
    {
      "cell_type": "code",
      "source": [],
      "metadata": {
        "id": "m1jKpZxadW2q"
      },
      "execution_count": 9,
      "outputs": []
    },
    {
      "cell_type": "code",
      "source": [
        "fruit = [\"apple\", \"grape\", \"cashew\", \"banana\"]"
      ],
      "metadata": {
        "id": "nkSCdSyNf50o"
      },
      "execution_count": 6,
      "outputs": []
    },
    {
      "cell_type": "code",
      "source": [
        "type(fruit)"
      ],
      "metadata": {
        "id": "LPYB0mzPg7XZ",
        "outputId": "fd5b1643-79cf-4f53-efcd-d1335422952e",
        "colab": {
          "base_uri": "https://localhost:8080/"
        }
      },
      "execution_count": 7,
      "outputs": [
        {
          "output_type": "execute_result",
          "data": {
            "text/plain": [
              "list"
            ]
          },
          "metadata": {},
          "execution_count": 7
        }
      ]
    },
    {
      "cell_type": "code",
      "source": [
        "fruit[1]"
      ],
      "metadata": {
        "id": "Fj9PsF5chLIq",
        "outputId": "84ee98e5-f538-49d9-e908-b2149674ea75",
        "colab": {
          "base_uri": "https://localhost:8080/",
          "height": 35
        }
      },
      "execution_count": 8,
      "outputs": [
        {
          "output_type": "execute_result",
          "data": {
            "text/plain": [
              "'grape'"
            ],
            "application/vnd.google.colaboratory.intrinsic+json": {
              "type": "string"
            }
          },
          "metadata": {},
          "execution_count": 8
        }
      ]
    },
    {
      "cell_type": "code",
      "source": [
        "for my_fruit in fruit:\n",
        "    print(f\"This is my best fruit: {my_fruit}\")  "
      ],
      "metadata": {
        "id": "DXyQspYCiBUx",
        "outputId": "0d3a6e63-b757-4fd5-b261-1f3aa38f5730",
        "colab": {
          "base_uri": "https://localhost:8080/"
        }
      },
      "execution_count": 11,
      "outputs": [
        {
          "output_type": "stream",
          "name": "stdout",
          "text": [
            "This is my best fruit: apple\n",
            "This is my best fruit: grape\n",
            "This is my best fruit: cashew\n",
            "This is my best fruit: banana\n"
          ]
        }
      ]
    },
    {
      "cell_type": "markdown",
      "source": [
        "#### Dictionary\n"
      ],
      "metadata": {
        "id": "weNooms_jCSG"
      }
    },
    {
      "cell_type": "code",
      "source": [
        "dessert = {\"morning\":\"Cheese cake\", \"lunch\": \"meat pie\", \"tea\":\"pizza\",\"supper\": \"shawarma\"}"
      ],
      "metadata": {
        "id": "A3L45s2QjFO0"
      },
      "execution_count": 12,
      "outputs": []
    },
    {
      "cell_type": "code",
      "source": [
        "dessert.keys()"
      ],
      "metadata": {
        "id": "XwUD_wbClEhM",
        "outputId": "bbfcd88b-73f1-447d-a300-2937682e72a3",
        "colab": {
          "base_uri": "https://localhost:8080/"
        }
      },
      "execution_count": 14,
      "outputs": [
        {
          "output_type": "execute_result",
          "data": {
            "text/plain": [
              "dict_keys(['morning', 'lunch', 'tea', 'supper'])"
            ]
          },
          "metadata": {},
          "execution_count": 14
        }
      ]
    },
    {
      "cell_type": "code",
      "source": [
        "dessert.values()"
      ],
      "metadata": {
        "id": "bKDHH-kKmHXE",
        "outputId": "bd227bab-593f-47a2-d9ed-cab8f67353a7",
        "colab": {
          "base_uri": "https://localhost:8080/"
        }
      },
      "execution_count": 16,
      "outputs": [
        {
          "output_type": "execute_result",
          "data": {
            "text/plain": [
              "dict_values(['Cheese cake', 'meat pie', 'pizza', 'shawarma'])"
            ]
          },
          "metadata": {},
          "execution_count": 16
        }
      ]
    },
    {
      "cell_type": "code",
      "source": [
        "for dessert_name, dessert_item in dessert.items():\n",
        "    print(f\"This dessert {dessert_name } is when i like to consume {dessert_item}\")"
      ],
      "metadata": {
        "id": "1WfvXTEKmTaE",
        "outputId": "2bdc192e-a32a-4abe-a7b3-036e6b46a57e",
        "colab": {
          "base_uri": "https://localhost:8080/"
        }
      },
      "execution_count": 18,
      "outputs": [
        {
          "output_type": "stream",
          "name": "stdout",
          "text": [
            "This dessert morning is when i like to consume Cheese cake\n",
            "This dessert lunch is when i like to consume meat pie\n",
            "This dessert tea is when i like to consume pizza\n",
            "This dessert supper is when i like to consume shawarma\n"
          ]
        }
      ]
    }
  ]
}